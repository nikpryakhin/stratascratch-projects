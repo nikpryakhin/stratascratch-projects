{
 "cells": [
  {
   "cell_type": "markdown",
   "metadata": {},
   "source": [
    "# Data Transformation\n",
    "\n",
    "## Assignment\n",
    "\n",
    "Some event data come as json files and need some transformation to be structured as tables. Convert the case.json file to 3 csv files, using the programming language of your choice, with the following rules:\n",
    "\n",
    "1. CuratedOfferOptions.csv\n",
    "\n",
    "> - CurationProvider: in quotes\n",
    "> - OfferId: in quotes\n",
    "> - DealerId: in quotes \n",
    "> - UniqueOptionId: in quotes\n",
    "> - OptionId: in quotes\n",
    "> - IsMobileDealer: without quotes\n",
    "> - IsOpen: without quotes\n",
    "> - Eta: in quotes\n",
    "> - ChamaScore: without quotes\n",
    "> - ProductBrand: in quotes\n",
    "> - IsWinner: without quotes\n",
    "> - MinimumPrice: without quotes\n",
    "> - MaximumPrice: without quotes\n",
    "> - DynamicPrice: without quotes\n",
    "> - FinalPrice: without quotes\n",
    "> - DefeatPrimaryReason: in quotes\n",
    "> - DefeatReasons: in quotes\n",
    "> - EnqueuedTimeSP: DD/MM/YYYY (converted to Brasilian timezone - UTC-3)\n",
    "\n",
    "2. DynamicPriceOption.csv\n",
    "\n",
    "> - Provider: in quotes\n",
    "> - OfferId: in quotes\n",
    "> - UniqueOptionId: in quotes\n",
    "> - BestPrice: without quotes\n",
    "> - EnqueuedTimeSP: DD/MM/YYYY (converted to Brasilian timezone - UTC-3)\n",
    "\n",
    "3. DynamicPriceRange.csv\n",
    "\n",
    "> - Provider: in quotes\n",
    "> - OfferId: in quotes\n",
    "> - MinGlobal: without quotes\n",
    "> - MinRecommended: without quotes\n",
    "> - MaxRecommended: without quotes\n",
    "> - DifferenceMinRecommendMinTheory: without quotes\n",
    "> - EnqueuedTimeSP: DD/MM/YYYY (converted to Brasilian timezone - UTC-3)\n",
    "\n",
    "## Data Description\n",
    "\n",
    "You are given one file **'case.json'**. Below is an example of a single record from this file:\n",
    "\n",
    "{ \\\n",
    "    \"EnqueuedTimeUtc\": \"2021-09-05 08:04:08 UTC\", \\\n",
    "    \"EventName\": \"DynamicPrice_Result\", \\\n",
    "    \"Payload\": \"{\\\"provider\\\":\\\"ApplyDynamicPriceRange\\\",\\\"offerId\\\":\\\"a6611d55-9624-4381-8cdd-323ee3689241\\\",\\\"algorithmOutput\\\":{\\\"min_global\\\":85.0,\\\"min_recommended\\\":87.2,\\\"max_recommended\\\":97.65,\\\"differenceMinRecommendMinTheory\\\":2.2}}\" \\\n",
    "  }"
   ]
  },
  {
   "cell_type": "markdown",
   "metadata": {},
   "source": [
    "#### Table of contents\n",
    "\n",
    "1. Test\n",
    "2. \n",
    "3. "
   ]
  },
  {
   "cell_type": "code",
   "execution_count": null,
   "metadata": {},
   "outputs": [],
   "source": []
  },
  {
   "cell_type": "code",
   "execution_count": null,
   "metadata": {},
   "outputs": [],
   "source": []
  },
  {
   "cell_type": "code",
   "execution_count": null,
   "metadata": {},
   "outputs": [],
   "source": []
  }
 ],
 "metadata": {
  "kernelspec": {
   "display_name": "Python 3",
   "language": "python",
   "name": "python3"
  },
  "language_info": {
   "codemirror_mode": {
    "name": "ipython",
    "version": 3
   },
   "file_extension": ".py",
   "mimetype": "text/x-python",
   "name": "python",
   "nbconvert_exporter": "python",
   "pygments_lexer": "ipython3",
   "version": "3.10.4"
  }
 },
 "nbformat": 4,
 "nbformat_minor": 2
}
